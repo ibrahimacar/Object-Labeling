{
 "cells": [
  {
   "cell_type": "markdown",
   "metadata": {},
   "source": [
    "### import necessary packages"
   ]
  },
  {
   "cell_type": "code",
   "execution_count": 21,
   "metadata": {},
   "outputs": [],
   "source": [
    "import cv2\n",
    "import numpy as np\n",
    "from matplotlib import pyplot as plt\n",
    "import math"
   ]
  },
  {
   "cell_type": "markdown",
   "metadata": {},
   "source": [
    "### initiliaze necessary variables"
   ]
  },
  {
   "cell_type": "code",
   "execution_count": 22,
   "metadata": {},
   "outputs": [],
   "source": [
    "firstRectangle=[];\n",
    "newRectangle=[];\n",
    "flag=None\n",
    "copy=cv2.imread('image.jpg')"
   ]
  },
  {
   "cell_type": "markdown",
   "metadata": {},
   "source": [
    "### mouseCallBack function"
   ]
  },
  {
   "cell_type": "code",
   "execution_count": 23,
   "metadata": {},
   "outputs": [],
   "source": [
    "def mouseCallBack(event,x,y,flags,param):\n",
    "    global flag\n",
    "    if(event==cv2.EVENT_LBUTTONDBLCLK):\n",
    "        chooseRectangle(x,y)\n",
    "\n",
    "    elif(event==cv2.EVENT_MBUTTONDOWN):\n",
    "\n",
    "        editRectangle(x,y,copy)\n"
   ]
  },
  {
   "cell_type": "markdown",
   "metadata": {},
   "source": [
    "### This function transfers elements of an list to another one"
   ]
  },
  {
   "cell_type": "code",
   "execution_count": 24,
   "metadata": {},
   "outputs": [],
   "source": [
    "def transferFromListToList(firstRectangle,newRectangle):\n",
    "    firstRectangle.clear()\n",
    "    for i in newRectangle:\n",
    "        firstRectangle.append(i)\n",
    "\n",
    "    newRectangle.clear()"
   ]
  },
  {
   "cell_type": "markdown",
   "metadata": {},
   "source": [
    "### This function calculates distance between two point"
   ]
  },
  {
   "cell_type": "code",
   "execution_count": 25,
   "metadata": {},
   "outputs": [],
   "source": [
    "def distance(x1,y1,x2,y2):\n",
    "    return math.sqrt( ( (x1-x2) * (x1-x2) ) + ( (y1-y2) * (y1-y2) ) ) "
   ]
  },
  {
   "cell_type": "markdown",
   "metadata": {},
   "source": [
    "### This function writes cordinates and user input to roi_file"
   ]
  },
  {
   "cell_type": "code",
   "execution_count": 26,
   "metadata": {},
   "outputs": [],
   "source": [
    "def readToFile():\n",
    "    file = open('roi_file.txt','a')\n",
    "    name=input(\"What is in the rectangle?\\n\")\n",
    "    file.write(str(name) + \",\" + \"(\" + str(firstRectangle[0]) + \",\" + str(firstRectangle[1]) + \")\" + \",\" +\"(\" + str(firstRectangle[2]) + \",\" + str(firstRectangle[3]) +  \")\\n\" )\n",
    "    file.close()"
   ]
  },
  {
   "cell_type": "markdown",
   "metadata": {},
   "source": [
    "### chooseRectangle"
   ]
  },
  {
   "cell_type": "code",
   "execution_count": 27,
   "metadata": {},
   "outputs": [],
   "source": [
    "def chooseRectangle(x,y):  #choose rectangle and append corners to firstRectangle\n",
    "    if(len(firstRectangle)==0):\n",
    "        firstRectangle.append(x);\n",
    "        firstRectangle.append(y);\n",
    "        cv2.circle(img,(x,y),4,(0,255,0),-1)\n",
    "        cv2.circle(img,(x,y),10,(0,255,255),1)\n",
    "\n",
    "    elif(len(firstRectangle)==2):\n",
    "            if(distance(firstRectangle[0],firstRectangle[1],x,y)>10 and x>firstRectangle[0] and y>firstRectangle[1]):\n",
    "                firstRectangle.append(x);\n",
    "                firstRectangle.append(y);\n",
    "                cv2.circle(img,(x,y),4,(0,255,0),-1)\n",
    "                cv2.circle(img,(x,y),10,(0,255,255),1)\n",
    "                cv2.rectangle(img,(firstRectangle[0],firstRectangle[1]),(firstRectangle[2],firstRectangle[3]),(0,0,255),2)\n"
   ]
  },
  {
   "cell_type": "markdown",
   "metadata": {},
   "source": [
    "### editRectangle"
   ]
  },
  {
   "cell_type": "code",
   "execution_count": 28,
   "metadata": {},
   "outputs": [],
   "source": [
    "def editRectangle(x,y,copy):\n",
    "\n",
    "    global flag\n",
    "\n",
    "    if(len(firstRectangle)==4):\n",
    "        if(flag==(None)):           #first right click\n",
    "            if(distance(firstRectangle[0],firstRectangle[1],x,y)<10):\n",
    "                copy2=cv2.imread('image.jpg')\n",
    "                cv2.circle(copy2,(firstRectangle[0],firstRectangle[1]),4,(255,0,255),-1)\n",
    "                cv2.circle(copy2,(firstRectangle[0],firstRectangle[1]),10,(0,255,255),1)\n",
    "                cv2.circle(copy2,(firstRectangle[2],firstRectangle[3]),4,(0,255,0),-1)\n",
    "                cv2.circle(copy2,(firstRectangle[2],firstRectangle[3]),10,(0,255,255),1)\n",
    "                cv2.rectangle(copy2,(firstRectangle[0],firstRectangle[1]),(firstRectangle[2],firstRectangle[3]),(0,0,255),2)\n",
    "                flag=True\n",
    "                cv2.imshow('image',copy2)\n",
    "                cv2.waitKey(1)\n",
    "\n",
    "\n",
    "\n",
    "            elif(distance(firstRectangle[2],firstRectangle[3],x,y)<10):\n",
    "                copy2=cv2.imread('image.jpg')\n",
    "                cv2.circle(copy2,(firstRectangle[0],firstRectangle[1]),4,(0,255,0),-1)\n",
    "                cv2.circle(copy2,(firstRectangle[0],firstRectangle[1]),10,(0,255,255),1)\n",
    "                cv2.circle(copy2,(firstRectangle[2],firstRectangle[3]),4,(255,0,255),-1)\n",
    "                cv2.circle(copy2,(firstRectangle[2],firstRectangle[3]),10,(0,255,255),1)\n",
    "                cv2.rectangle(copy2,(firstRectangle[0],firstRectangle[1]),(firstRectangle[2],firstRectangle[3]),(0,0,255),2)\n",
    "                flag=False\n",
    "                cv2.imshow('image',copy2)\n",
    "                cv2.waitKey(1)\n",
    "\n",
    "\n",
    "        elif(flag==True): #topleft editing\n",
    "\n",
    "            if(firstRectangle[2]>x+10 and firstRectangle[3]>y+10):\n",
    "                newRectangle.append(x);\n",
    "                newRectangle.append(y);\n",
    "                newRectangle.append(firstRectangle[2])\n",
    "                newRectangle.append(firstRectangle[3])\n",
    "                newRectangleFunc(x,y)\n",
    "\n",
    "        elif(flag==False):\n",
    "            if(firstRectangle[0]+10<x and firstRectangle[1]+10<y):\n",
    "                newRectangle.append(firstRectangle[0])\n",
    "                newRectangle.append(firstRectangle[1])\n",
    "                newRectangle.append(x);\n",
    "                newRectangle.append(y);\n",
    "                newRectangleFunc(x,y)\n"
   ]
  },
  {
   "cell_type": "markdown",
   "metadata": {},
   "source": [
    "### drawRecFunction"
   ]
  },
  {
   "cell_type": "code",
   "execution_count": 29,
   "metadata": {},
   "outputs": [],
   "source": [
    "def newRectangleFunc(x,y):\n",
    "    global flag\n",
    "    copy=cv2.imread('image.jpg')\n",
    "    cv2.circle(copy,(newRectangle[2],newRectangle[3]),4,(0,255,0),-1)\n",
    "    cv2.circle(copy,(newRectangle[2],newRectangle[3]),10,(0,255,255),1)\n",
    "    cv2.circle(copy,(newRectangle[0],newRectangle[1]),4,(0,255,0),-1)\n",
    "    cv2.circle(copy,(newRectangle[0],newRectangle[1]),10,(0,255,255),1)\n",
    "    cv2.rectangle(copy,(newRectangle[0],newRectangle[1]),(newRectangle[2],newRectangle[3]),(0,0,255),2)\n",
    "    transferFromListToList(firstRectangle,newRectangle)\n",
    "    flag=None\n",
    "    cv2.imshow('image',copy)\n",
    "    cv2.waitKey(1)\n"
   ]
  },
  {
   "cell_type": "markdown",
   "metadata": {},
   "source": [
    "### main"
   ]
  },
  {
   "cell_type": "code",
   "execution_count": 30,
   "metadata": {},
   "outputs": [
    {
     "name": "stdout",
     "output_type": "stream",
     "text": [
      "What is in the rectangle?\n",
      "asdasd\n"
     ]
    }
   ],
   "source": [
    "img = cv2.imread('image.jpg')\n",
    "cv2.namedWindow('image')\n",
    "cv2.setMouseCallback('image',mouseCallBack)\n",
    "\n",
    "while(1):\n",
    "    cv2.imshow('image',img)\n",
    "    if cv2.waitKey(20) & 0xFF == 27:\n",
    "        break\n",
    "    if (cv2.waitKey(20)==ord(\"s\") and len(firstRectangle)==4) :\n",
    "        readToFile()\n",
    "        break\n",
    "\n",
    "\n",
    "\n",
    "cv2.destroyAllWindows()\n"
   ]
  },
  {
   "cell_type": "code",
   "execution_count": null,
   "metadata": {},
   "outputs": [],
   "source": []
  },
  {
   "cell_type": "code",
   "execution_count": null,
   "metadata": {},
   "outputs": [],
   "source": []
  },
  {
   "cell_type": "code",
   "execution_count": null,
   "metadata": {},
   "outputs": [],
   "source": []
  }
 ],
 "metadata": {
  "kernelspec": {
   "display_name": "Python 3",
   "language": "python",
   "name": "python3"
  },
  "language_info": {
   "codemirror_mode": {
    "name": "ipython",
    "version": 3
   },
   "file_extension": ".py",
   "mimetype": "text/x-python",
   "name": "python",
   "nbconvert_exporter": "python",
   "pygments_lexer": "ipython3",
   "version": "3.5.2"
  }
 },
 "nbformat": 4,
 "nbformat_minor": 2
}
